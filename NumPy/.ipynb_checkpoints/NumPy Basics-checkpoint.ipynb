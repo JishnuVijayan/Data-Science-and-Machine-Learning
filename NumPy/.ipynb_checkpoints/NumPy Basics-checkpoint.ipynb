{
 "cells": [
  {
   "cell_type": "markdown",
   "id": "bc4fbcd6-f3b1-41c0-9164-46e108dd32ef",
   "metadata": {},
   "source": [
    "**NumPy Basics**\n",
    "\n"
   ]
  },
  {
   "cell_type": "code",
   "execution_count": 8,
   "id": "9e1bcdb0-90c8-4020-8708-8e6f80f53245",
   "metadata": {},
   "outputs": [],
   "source": [
    "import numpy as np"
   ]
  },
  {
   "cell_type": "markdown",
   "id": "c58bb40a-eb61-49b8-b0f0-b6d0094142c1",
   "metadata": {},
   "source": [
    "Creating a Python list and converting it to numpy array"
   ]
  },
  {
   "cell_type": "code",
   "execution_count": 11,
   "id": "ada11f45-fd6f-4011-bb24-1cce3799b314",
   "metadata": {},
   "outputs": [
    {
     "data": {
      "text/plain": [
       "[1, 2, 3, 4]"
      ]
     },
     "execution_count": 11,
     "metadata": {},
     "output_type": "execute_result"
    }
   ],
   "source": [
    "new_list = [1, 2, 3, 4]\n",
    "new_list"
   ]
  },
  {
   "cell_type": "code",
   "execution_count": 13,
   "id": "1e7ee8ba-8300-4973-87f9-5c2c37a95c4b",
   "metadata": {},
   "outputs": [
    {
     "data": {
      "text/plain": [
       "array([1, 2, 3, 4])"
      ]
     },
     "execution_count": 13,
     "metadata": {},
     "output_type": "execute_result"
    }
   ],
   "source": [
    "np.array(new_list)"
   ]
  },
  {
   "cell_type": "code",
   "execution_count": 17,
   "id": "e7558cc1-cdfe-45ea-9f39-6f345fec743c",
   "metadata": {},
   "outputs": [
    {
     "data": {
      "text/plain": [
       "[[1, 2, 3, 4], [5, 6, 7, 8]]"
      ]
     },
     "execution_count": 17,
     "metadata": {},
     "output_type": "execute_result"
    }
   ],
   "source": [
    "next_list = [[1, 2, 3, 4], [5, 6, 7, 8]]\n",
    "next_list"
   ]
  },
  {
   "cell_type": "code",
   "execution_count": 19,
   "id": "6013172c-0260-41d0-8545-d4c19d1b250b",
   "metadata": {},
   "outputs": [
    {
     "data": {
      "text/plain": [
       "array([[1, 2, 3, 4],\n",
       "       [5, 6, 7, 8]])"
      ]
     },
     "execution_count": 19,
     "metadata": {},
     "output_type": "execute_result"
    }
   ],
   "source": [
    "np.array(next_list)"
   ]
  },
  {
   "cell_type": "markdown",
   "id": "70cbb65f-caaf-421a-ae89-9cf42d928395",
   "metadata": {},
   "source": [
    "**Built-in Methods**"
   ]
  },
  {
   "cell_type": "markdown",
   "id": "edf45f3e-f872-4d4a-8bdc-1a7d5caada1d",
   "metadata": {},
   "source": [
    "1. arange(Return evenly spaced values with a given inverval)"
   ]
  },
  {
   "cell_type": "code",
   "execution_count": 23,
   "id": "f2ba05f3-1c54-4af0-81b9-327f7032d739",
   "metadata": {},
   "outputs": [
    {
     "data": {
      "text/plain": [
       "array([0, 1, 2, 3, 4, 5, 6, 7, 8, 9])"
      ]
     },
     "execution_count": 23,
     "metadata": {},
     "output_type": "execute_result"
    }
   ],
   "source": [
    "np.arange(0,10)"
   ]
  },
  {
   "cell_type": "code",
   "execution_count": 25,
   "id": "437359c4-b6a6-4b0f-b7ae-1d414eb21b79",
   "metadata": {},
   "outputs": [
    {
     "data": {
      "text/plain": [
       "array([ 0,  5, 10, 15, 20, 25])"
      ]
     },
     "execution_count": 25,
     "metadata": {},
     "output_type": "execute_result"
    }
   ],
   "source": [
    "np.arange(0, 30, 5)"
   ]
  },
  {
   "cell_type": "markdown",
   "id": "7f6c0f9a-9f3a-49d7-a175-ecaf32c1b24e",
   "metadata": {},
   "source": [
    "2. zeros and ones creates arrays of zeros and ones"
   ]
  },
  {
   "cell_type": "code",
   "execution_count": 34,
   "id": "d88323ca-2984-4c53-add0-7f4a2f44c3e4",
   "metadata": {},
   "outputs": [
    {
     "data": {
      "text/plain": [
       "array([0., 0., 0., 0., 0.])"
      ]
     },
     "execution_count": 34,
     "metadata": {},
     "output_type": "execute_result"
    }
   ],
   "source": [
    "np.zeros(5)"
   ]
  },
  {
   "cell_type": "markdown",
   "id": "cdb56082-c2a1-4495-bdb7-309f9e264467",
   "metadata": {},
   "source": [
    "# in case of 2-D array pass the values within a tuple"
   ]
  },
  {
   "cell_type": "code",
   "execution_count": 32,
   "id": "e3f7126f-4bc3-4957-bc7b-443debf6159d",
   "metadata": {},
   "outputs": [
    {
     "data": {
      "text/plain": [
       "array([[0., 0., 0., 0., 0., 0., 0., 0., 0., 0.],\n",
       "       [0., 0., 0., 0., 0., 0., 0., 0., 0., 0.],\n",
       "       [0., 0., 0., 0., 0., 0., 0., 0., 0., 0.],\n",
       "       [0., 0., 0., 0., 0., 0., 0., 0., 0., 0.],\n",
       "       [0., 0., 0., 0., 0., 0., 0., 0., 0., 0.]])"
      ]
     },
     "execution_count": 32,
     "metadata": {},
     "output_type": "execute_result"
    }
   ],
   "source": [
    "np.zeros((5, 10))"
   ]
  },
  {
   "cell_type": "code",
   "execution_count": 36,
   "id": "fe9fe371-d0e6-4385-a432-d1fb7a5a3c53",
   "metadata": {},
   "outputs": [
    {
     "data": {
      "text/plain": [
       "array([1., 1., 1., 1., 1.])"
      ]
     },
     "execution_count": 36,
     "metadata": {},
     "output_type": "execute_result"
    }
   ],
   "source": [
    "np.ones(5)"
   ]
  },
  {
   "cell_type": "code",
   "execution_count": 38,
   "id": "02967c83-e0cd-40b0-a252-48dfd9348111",
   "metadata": {},
   "outputs": [
    {
     "data": {
      "text/plain": [
       "array([[1., 1., 1.],\n",
       "       [1., 1., 1.],\n",
       "       [1., 1., 1.]])"
      ]
     },
     "execution_count": 38,
     "metadata": {},
     "output_type": "execute_result"
    }
   ],
   "source": [
    "np.ones((3,3))"
   ]
  },
  {
   "cell_type": "markdown",
   "id": "0890c014-b871-4e18-8d56-0cabe75ff62f",
   "metadata": {},
   "source": [
    "3. linspace(Return evenly spaced numbers over a specified interval)"
   ]
  },
  {
   "cell_type": "code",
   "execution_count": 45,
   "id": "8cb5380c-768c-432e-87e8-ce318d001c4f",
   "metadata": {},
   "outputs": [
    {
     "data": {
      "text/plain": [
       "array([ 0.,  5., 10.])"
      ]
     },
     "execution_count": 45,
     "metadata": {},
     "output_type": "execute_result"
    }
   ],
   "source": [
    "np.linspace(0, 10, 3)"
   ]
  },
  {
   "cell_type": "code",
   "execution_count": 47,
   "id": "f3b4a53f-c2ae-4e52-ae5f-b333227ad628",
   "metadata": {},
   "outputs": [
    {
     "data": {
      "text/plain": [
       "array([ 0.        ,  0.41666667,  0.83333333,  1.25      ,  1.66666667,\n",
       "        2.08333333,  2.5       ,  2.91666667,  3.33333333,  3.75      ,\n",
       "        4.16666667,  4.58333333,  5.        ,  5.41666667,  5.83333333,\n",
       "        6.25      ,  6.66666667,  7.08333333,  7.5       ,  7.91666667,\n",
       "        8.33333333,  8.75      ,  9.16666667,  9.58333333, 10.        ])"
      ]
     },
     "execution_count": 47,
     "metadata": {},
     "output_type": "execute_result"
    }
   ],
   "source": [
    "np.linspace(0, 10, 25)"
   ]
  },
  {
   "cell_type": "markdown",
   "id": "da2999d3-56d0-46bd-a2a1-43bc024d352c",
   "metadata": {},
   "source": [
    "4. eye(creates identity matrix)"
   ]
  },
  {
   "cell_type": "code",
   "execution_count": 50,
   "id": "6a1ffcef-12eb-4b11-a911-d1a73f658329",
   "metadata": {},
   "outputs": [
    {
     "data": {
      "text/plain": [
       "array([[1., 0., 0., 0.],\n",
       "       [0., 1., 0., 0.],\n",
       "       [0., 0., 1., 0.],\n",
       "       [0., 0., 0., 1.]])"
      ]
     },
     "execution_count": 50,
     "metadata": {},
     "output_type": "execute_result"
    }
   ],
   "source": [
    "np.eye(4)"
   ]
  },
  {
   "cell_type": "markdown",
   "id": "6b38b42c-bae1-4e2e-b5d6-e1aec9f9c980",
   "metadata": {},
   "source": [
    "**Random**"
   ]
  },
  {
   "cell_type": "markdown",
   "id": "6317fbac-8d4b-49db-b13f-62ac6ab6972a",
   "metadata": {},
   "source": [
    "5. rand(create an array of the given shape and populate it with random samples from a uniform distribution over 0 to 1)"
   ]
  },
  {
   "cell_type": "code",
   "execution_count": 54,
   "id": "26f426ee-c3ad-4b90-b173-d2db8625f064",
   "metadata": {},
   "outputs": [
    {
     "data": {
      "text/plain": [
       "array([0.18528652, 0.10177709, 0.44040272, 0.11867168, 0.4426744 ,\n",
       "       0.10520854, 0.37437323, 0.97637999, 0.22943498, 0.05775561])"
      ]
     },
     "execution_count": 54,
     "metadata": {},
     "output_type": "execute_result"
    }
   ],
   "source": [
    "np.random.rand(10)"
   ]
  },
  {
   "cell_type": "markdown",
   "id": "7e2f6581-ea40-4222-9956-ecb31985c804",
   "metadata": {},
   "source": [
    "# in case of we don't want to pass as a tuple"
   ]
  },
  {
   "cell_type": "code",
   "execution_count": 61,
   "id": "3bf0c5c1-45ed-4e6c-af56-638be142a9ab",
   "metadata": {},
   "outputs": [
    {
     "data": {
      "text/plain": [
       "array([[0.84555126, 0.31457508, 0.34004961, 0.16507706],\n",
       "       [0.27107538, 0.11259104, 0.04432593, 0.25329703],\n",
       "       [0.08416069, 0.05608234, 0.31486409, 0.05775539],\n",
       "       [0.98334501, 0.61500293, 0.36200929, 0.56937262]])"
      ]
     },
     "execution_count": 61,
     "metadata": {},
     "output_type": "execute_result"
    }
   ],
   "source": [
    "np.random.rand(4, 4)"
   ]
  },
  {
   "cell_type": "markdown",
   "id": "55e0f6bc-01ad-4986-b92d-7cfa9d0c9f61",
   "metadata": {},
   "source": [
    "6. randn(Return a sample(or samples from the \"standard normal\" distribution. Unlike rand which is uniform)"
   ]
  },
  {
   "cell_type": "code",
   "execution_count": 64,
   "id": "8b5d3d6e-a5dc-47d7-ae21-71e4147a8080",
   "metadata": {},
   "outputs": [
    {
     "data": {
      "text/plain": [
       "array([-1.28274511,  0.95122351,  0.76263671,  0.9583586 , -0.08712771,\n",
       "       -0.04155977, -2.30117971, -1.27150827, -0.3109106 , -0.29518643])"
      ]
     },
     "execution_count": 64,
     "metadata": {},
     "output_type": "execute_result"
    }
   ],
   "source": [
    "np.random.randn(10)"
   ]
  },
  {
   "cell_type": "code",
   "execution_count": 66,
   "id": "69f46aec-6998-4b5d-b030-4939772f5ee0",
   "metadata": {},
   "outputs": [
    {
     "data": {
      "text/plain": [
       "array([[-0.00331691,  0.29336227, -0.76369923,  0.11825556, -0.18460911],\n",
       "       [-0.3659993 , -1.31990696,  1.63291313,  0.73342177,  1.568059  ],\n",
       "       [-1.09215068, -0.98933014, -0.59962904,  1.05325833,  1.43993562],\n",
       "       [-0.08330876, -1.92106445,  0.39796182, -1.40150915, -1.08285847],\n",
       "       [-1.39574613, -0.20111456,  1.41909319, -0.48654308,  0.79819798]])"
      ]
     },
     "execution_count": 66,
     "metadata": {},
     "output_type": "execute_result"
    }
   ],
   "source": [
    "np.random.randn(5, 5)"
   ]
  },
  {
   "cell_type": "markdown",
   "id": "6c25ac42-620b-45b1-8fc2-a490204be5ff",
   "metadata": {},
   "source": [
    "7. randint(Return random integers from low to high(exclusive))"
   ]
  },
  {
   "cell_type": "code",
   "execution_count": 69,
   "id": "25018771-59fa-4e92-8b78-50c257c4f027",
   "metadata": {},
   "outputs": [
    {
     "data": {
      "text/plain": [
       "6"
      ]
     },
     "execution_count": 69,
     "metadata": {},
     "output_type": "execute_result"
    }
   ],
   "source": [
    "np.random.randint(10)"
   ]
  },
  {
   "cell_type": "code",
   "execution_count": 71,
   "id": "1105b362-5763-457f-91e8-ea86aa141890",
   "metadata": {},
   "outputs": [
    {
     "data": {
      "text/plain": [
       "array([10, 37, 12, 33, 25, 36, 12, 35, 29,  5, 22, 17, 31,  5, 21, 28, 36,\n",
       "       16,  2,  3])"
      ]
     },
     "execution_count": 71,
     "metadata": {},
     "output_type": "execute_result"
    }
   ],
   "source": [
    "np.random.randint(1, 40, 20)"
   ]
  },
  {
   "cell_type": "markdown",
   "id": "9cb321b9-5556-4f11-9cf1-cefdaf17dfcf",
   "metadata": {},
   "source": [
    "**Array attributes and method**"
   ]
  },
  {
   "cell_type": "code",
   "execution_count": 80,
   "id": "08385708-be10-4ebc-b7da-1273b8a6224f",
   "metadata": {},
   "outputs": [],
   "source": [
    "arr = np.arange(20)\n",
    "random_array = np.random.randint(0, 60, 12)"
   ]
  },
  {
   "cell_type": "code",
   "execution_count": 82,
   "id": "5a5c8ad9-d575-4dd8-b305-69a78d5e5a89",
   "metadata": {},
   "outputs": [
    {
     "data": {
      "text/plain": [
       "array([ 0,  1,  2,  3,  4,  5,  6,  7,  8,  9, 10, 11, 12, 13, 14, 15, 16,\n",
       "       17, 18, 19])"
      ]
     },
     "execution_count": 82,
     "metadata": {},
     "output_type": "execute_result"
    }
   ],
   "source": [
    "arr"
   ]
  },
  {
   "cell_type": "code",
   "execution_count": 84,
   "id": "43078af8-9d1c-4154-a94c-8f55ebb5e6b5",
   "metadata": {},
   "outputs": [
    {
     "data": {
      "text/plain": [
       "array([44, 28, 20, 31, 57, 48, 49, 24, 29, 10, 30, 22])"
      ]
     },
     "execution_count": 84,
     "metadata": {},
     "output_type": "execute_result"
    }
   ],
   "source": [
    "random_array"
   ]
  },
  {
   "cell_type": "markdown",
   "id": "8f8fa744-093e-4202-bed6-f10045629f42",
   "metadata": {},
   "source": [
    "8. reshape(Returns an array containing the same data with a new shape)"
   ]
  },
  {
   "cell_type": "code",
   "execution_count": 95,
   "id": "dae46045-d4ce-4cdc-969c-c5fb8a27a5ec",
   "metadata": {},
   "outputs": [
    {
     "data": {
      "text/plain": [
       "array([[ 0,  1,  2,  3,  4],\n",
       "       [ 5,  6,  7,  8,  9],\n",
       "       [10, 11, 12, 13, 14],\n",
       "       [15, 16, 17, 18, 19]])"
      ]
     },
     "execution_count": 95,
     "metadata": {},
     "output_type": "execute_result"
    }
   ],
   "source": [
    "arr.reshape(4, 5)"
   ]
  },
  {
   "cell_type": "markdown",
   "id": "a284a7ec-6e44-478e-b6c1-7e8a3a5af47d",
   "metadata": {},
   "source": [
    "9. min, max, argmin, argmax"
   ]
  },
  {
   "cell_type": "code",
   "execution_count": 100,
   "id": "dad8e7a0-1600-40b1-a8b1-e02e7843a45b",
   "metadata": {},
   "outputs": [
    {
     "data": {
      "text/plain": [
       "10"
      ]
     },
     "execution_count": 100,
     "metadata": {},
     "output_type": "execute_result"
    }
   ],
   "source": [
    "random_array.min()"
   ]
  },
  {
   "cell_type": "code",
   "execution_count": 102,
   "id": "c571e625-2354-4243-a419-84bfc1ded158",
   "metadata": {},
   "outputs": [
    {
     "data": {
      "text/plain": [
       "9"
      ]
     },
     "execution_count": 102,
     "metadata": {},
     "output_type": "execute_result"
    }
   ],
   "source": [
    "random_array.argmin() # index of the smallest element"
   ]
  },
  {
   "cell_type": "code",
   "execution_count": 104,
   "id": "1e26880e-9210-4fec-bda2-6c989461262d",
   "metadata": {},
   "outputs": [
    {
     "data": {
      "text/plain": [
       "57"
      ]
     },
     "execution_count": 104,
     "metadata": {},
     "output_type": "execute_result"
    }
   ],
   "source": [
    "random_array.max()"
   ]
  },
  {
   "cell_type": "code",
   "execution_count": 106,
   "id": "6a908194-cd40-4a25-b6a6-f34f4aa74a17",
   "metadata": {},
   "outputs": [
    {
     "data": {
      "text/plain": [
       "4"
      ]
     },
     "execution_count": 106,
     "metadata": {},
     "output_type": "execute_result"
    }
   ],
   "source": [
    "random_array.argmax()"
   ]
  },
  {
   "cell_type": "markdown",
   "id": "fa9dc60d-5f5b-4e7b-bedf-9790cda99e20",
   "metadata": {},
   "source": [
    "10. shape(shape is an attribute that arrays have(not a method, no paranthesis))"
   ]
  },
  {
   "cell_type": "code",
   "execution_count": 111,
   "id": "fabcf753-14b2-4e56-abdc-62628c521b90",
   "metadata": {},
   "outputs": [
    {
     "data": {
      "text/plain": [
       "(20,)"
      ]
     },
     "execution_count": 111,
     "metadata": {},
     "output_type": "execute_result"
    }
   ],
   "source": [
    "arr.shape"
   ]
  },
  {
   "cell_type": "code",
   "execution_count": 114,
   "id": "b31e329a-aa91-414b-8bb6-fa4721b47018",
   "metadata": {},
   "outputs": [
    {
     "data": {
      "text/plain": [
       "(1, 20)"
      ]
     },
     "execution_count": 114,
     "metadata": {},
     "output_type": "execute_result"
    }
   ],
   "source": [
    "arr.reshape(1, 20).shape"
   ]
  },
  {
   "cell_type": "markdown",
   "id": "cd30d8c7-aeee-4ae9-a4a2-88f26cfd63e6",
   "metadata": {},
   "source": [
    "11. dtype(data type)"
   ]
  },
  {
   "cell_type": "code",
   "execution_count": 117,
   "id": "230bb5d2-3238-4cc0-a082-f8d153064406",
   "metadata": {},
   "outputs": [
    {
     "data": {
      "text/plain": [
       "dtype('int32')"
      ]
     },
     "execution_count": 117,
     "metadata": {},
     "output_type": "execute_result"
    }
   ],
   "source": [
    "arr.dtype"
   ]
  }
 ],
 "metadata": {
  "kernelspec": {
   "display_name": "Python 3 (ipykernel)",
   "language": "python",
   "name": "python3"
  },
  "language_info": {
   "codemirror_mode": {
    "name": "ipython",
    "version": 3
   },
   "file_extension": ".py",
   "mimetype": "text/x-python",
   "name": "python",
   "nbconvert_exporter": "python",
   "pygments_lexer": "ipython3",
   "version": "3.12.4"
  }
 },
 "nbformat": 4,
 "nbformat_minor": 5
}
