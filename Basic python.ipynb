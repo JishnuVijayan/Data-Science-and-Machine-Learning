{
 "cells": [
  {
   "cell_type": "code",
   "execution_count": 8,
   "id": "222c02a4-963c-44a1-96b7-9962cd9aacd9",
   "metadata": {},
   "outputs": [
    {
     "name": "stdout",
     "output_type": "stream",
     "text": [
      "[2, 4, 6, 8]\n"
     ]
    }
   ],
   "source": [
    "# Normal method of function\n",
    "def times2(num):\n",
    "    return num*2\n",
    "seq = [1, 2, 3, 4]\n",
    "seq = list(map(times2, seq))\n",
    "print(seq)"
   ]
  },
  {
   "cell_type": "code",
   "execution_count": 1,
   "id": "b43dc337-8cdc-406f-9408-6eefb8f58a9c",
   "metadata": {},
   "outputs": [
    {
     "name": "stdout",
     "output_type": "stream",
     "text": [
      "[2, 4, 6, 8]\n"
     ]
    }
   ],
   "source": [
    "# Using lambda function\n",
    "seq_2 = [1, 2, 3, 4]\n",
    "seq_2 = list(map(lambda num: num * 2, seq_2))\n",
    "print(seq_2)"
   ]
  },
  {
   "cell_type": "code",
   "execution_count": 3,
   "id": "6e2722eb-6322-4e5e-81d6-ba2886da7f79",
   "metadata": {},
   "outputs": [
    {
     "name": "stdout",
     "output_type": "stream",
     "text": [
      "[2, 4]\n"
     ]
    }
   ],
   "source": [
    "# filter method\n",
    "seq_3 = [1, 2, 3, 4]\n",
    "seq_3 = list(filter(lambda num: num % 2 == 0, seq_3))\n",
    "print(seq_3)"
   ]
  },
  {
   "cell_type": "code",
   "execution_count": 7,
   "id": "09cf172e-f8d4-47c3-8ddc-23c2f633beaf",
   "metadata": {},
   "outputs": [
    {
     "name": "stdout",
     "output_type": "stream",
     "text": [
      "1\n",
      "2\n",
      "3\n",
      "5\n",
      "6\n",
      "8\n"
     ]
    }
   ],
   "source": [
    "# tuple unpacking\n",
    "x = [(1, 2), (3, 5), (6, 8)]\n",
    "for a,b in x:\n",
    "    print(a)\n",
    "    print(b)"
   ]
  },
  {
   "cell_type": "code",
   "execution_count": null,
   "id": "ef2d2ffb-f5d3-4d5a-b4da-e2f7f9a18925",
   "metadata": {},
   "outputs": [],
   "source": []
  }
 ],
 "metadata": {
  "kernelspec": {
   "display_name": "Python 3 (ipykernel)",
   "language": "python",
   "name": "python3"
  },
  "language_info": {
   "codemirror_mode": {
    "name": "ipython",
    "version": 3
   },
   "file_extension": ".py",
   "mimetype": "text/x-python",
   "name": "python",
   "nbconvert_exporter": "python",
   "pygments_lexer": "ipython3",
   "version": "3.12.4"
  }
 },
 "nbformat": 4,
 "nbformat_minor": 5
}
