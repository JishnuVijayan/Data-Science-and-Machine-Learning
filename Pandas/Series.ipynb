{
 "cells": [
  {
   "cell_type": "code",
   "execution_count": 3,
   "id": "7e76a3f1-c9c1-4566-98c0-8da718a5f69d",
   "metadata": {},
   "outputs": [],
   "source": [
    "import numpy as np\n",
    "import pandas as pd"
   ]
  },
  {
   "cell_type": "markdown",
   "id": "0fbb26a5-8785-41f3-9e18-570066f029c2",
   "metadata": {},
   "source": [
    "We can convert lists, numpy arrays, dictionaries to pandas series"
   ]
  },
  {
   "cell_type": "code",
   "execution_count": 21,
   "id": "0aaebd68-0e6f-45c0-91d8-1a6a82c8e9f7",
   "metadata": {},
   "outputs": [],
   "source": [
    "labels = ['a', 'b', 'c']\n",
    "list_1 = [10, 20, 30]\n",
    "arr = np.arange(1, 4)\n",
    "d = {'a' : 1, 'b': 2, 'c': 3}"
   ]
  },
  {
   "cell_type": "code",
   "execution_count": 23,
   "id": "a5d67209-63f7-4b92-b734-3074c7d06dda",
   "metadata": {},
   "outputs": [
    {
     "data": {
      "text/plain": [
       "0    10\n",
       "1    20\n",
       "2    30\n",
       "dtype: int64"
      ]
     },
     "execution_count": 23,
     "metadata": {},
     "output_type": "execute_result"
    }
   ],
   "source": [
    "pd.Series(data = list_1)"
   ]
  },
  {
   "cell_type": "code",
   "execution_count": 25,
   "id": "8ca9c620-28f3-48c4-a3c8-aec9e5689993",
   "metadata": {},
   "outputs": [
    {
     "data": {
      "text/plain": [
       "a    10\n",
       "b    20\n",
       "c    30\n",
       "dtype: int64"
      ]
     },
     "execution_count": 25,
     "metadata": {},
     "output_type": "execute_result"
    }
   ],
   "source": [
    "pd.Series(data = list_1, index = labels)"
   ]
  },
  {
   "cell_type": "code",
   "execution_count": 27,
   "id": "29533e11-7f35-49c6-88b4-7d86df46b36d",
   "metadata": {},
   "outputs": [
    {
     "data": {
      "text/plain": [
       "a    10\n",
       "b    20\n",
       "c    30\n",
       "dtype: int64"
      ]
     },
     "execution_count": 27,
     "metadata": {},
     "output_type": "execute_result"
    }
   ],
   "source": [
    "pd.Series(list_1,labels)"
   ]
  },
  {
   "cell_type": "markdown",
   "id": "56b3b748-8d77-4a81-a824-6123824a1089",
   "metadata": {},
   "source": [
    "# NumPy arrays"
   ]
  },
  {
   "cell_type": "code",
   "execution_count": 29,
   "id": "7c6f82ab-7a72-4c79-b7d7-0f2375c85a7c",
   "metadata": {},
   "outputs": [
    {
     "data": {
      "text/plain": [
       "0    1\n",
       "1    2\n",
       "2    3\n",
       "dtype: int32"
      ]
     },
     "execution_count": 29,
     "metadata": {},
     "output_type": "execute_result"
    }
   ],
   "source": [
    "pd.Series(arr)"
   ]
  },
  {
   "cell_type": "code",
   "execution_count": 31,
   "id": "6e8c5a24-68c1-4fa6-bd26-35ee3db490b8",
   "metadata": {},
   "outputs": [
    {
     "data": {
      "text/plain": [
       "a    1\n",
       "b    2\n",
       "c    3\n",
       "dtype: int32"
      ]
     },
     "execution_count": 31,
     "metadata": {},
     "output_type": "execute_result"
    }
   ],
   "source": [
    "pd.Series(arr, labels)"
   ]
  },
  {
   "cell_type": "markdown",
   "id": "8de497d4-3340-42ab-bbea-3f20c352e393",
   "metadata": {},
   "source": [
    "# Dictionary"
   ]
  },
  {
   "cell_type": "code",
   "execution_count": 39,
   "id": "09082806-9238-43ab-b9b5-0f3210d81217",
   "metadata": {},
   "outputs": [
    {
     "data": {
      "text/plain": [
       "a    1\n",
       "b    2\n",
       "c    3\n",
       "dtype: int64"
      ]
     },
     "execution_count": 39,
     "metadata": {},
     "output_type": "execute_result"
    }
   ],
   "source": [
    "pd.Series(d)"
   ]
  },
  {
   "cell_type": "markdown",
   "id": "02891e62-02d0-4a5a-9888-8d8e9e812681",
   "metadata": {},
   "source": [
    "**Data in series**"
   ]
  },
  {
   "cell_type": "code",
   "execution_count": 43,
   "id": "fca8a9eb-44fb-478c-b83c-cc8c4aaaaff2",
   "metadata": {},
   "outputs": [
    {
     "data": {
      "text/plain": [
       "0    a\n",
       "1    b\n",
       "2    c\n",
       "dtype: object"
      ]
     },
     "execution_count": 43,
     "metadata": {},
     "output_type": "execute_result"
    }
   ],
   "source": [
    "pd.Series(data=labels)"
   ]
  },
  {
   "cell_type": "markdown",
   "id": "f32647ee-4463-4291-b979-7d1de7e59a78",
   "metadata": {},
   "source": [
    "**Using an Index**"
   ]
  },
  {
   "cell_type": "code",
   "execution_count": 50,
   "id": "4ee57001-0500-4d87-adce-6a2e1cef07d8",
   "metadata": {},
   "outputs": [],
   "source": [
    "ser1 = pd.Series([1, 2, 3, 4], index = [\"USA\", \"UK\", \"Germay\", \"India\"])"
   ]
  },
  {
   "cell_type": "code",
   "execution_count": 52,
   "id": "a54e5808-ff97-41fc-97bc-4aa001c93890",
   "metadata": {},
   "outputs": [
    {
     "data": {
      "text/plain": [
       "USA       1\n",
       "UK        2\n",
       "Germay    3\n",
       "India     4\n",
       "dtype: int64"
      ]
     },
     "execution_count": 52,
     "metadata": {},
     "output_type": "execute_result"
    }
   ],
   "source": [
    "ser1"
   ]
  },
  {
   "cell_type": "code",
   "execution_count": 54,
   "id": "96f08fa1-0271-46c6-bf5b-97e14d163085",
   "metadata": {},
   "outputs": [],
   "source": [
    "ser2 = pd.Series([1, 2, 3, 4], index = [\"USA\", \"India\", \"Iran\", \"Japan\"])"
   ]
  },
  {
   "cell_type": "code",
   "execution_count": 56,
   "id": "49842f13-aed3-4e0a-a0dd-9bd427daf0f9",
   "metadata": {},
   "outputs": [
    {
     "data": {
      "text/plain": [
       "USA      1\n",
       "India    2\n",
       "Iran     3\n",
       "Japan    4\n",
       "dtype: int64"
      ]
     },
     "execution_count": 56,
     "metadata": {},
     "output_type": "execute_result"
    }
   ],
   "source": [
    "ser2"
   ]
  },
  {
   "cell_type": "code",
   "execution_count": 58,
   "id": "bf4acc25-0590-45cc-aafd-486bda39d2fb",
   "metadata": {},
   "outputs": [
    {
     "data": {
      "text/plain": [
       "Germay    NaN\n",
       "India     6.0\n",
       "Iran      NaN\n",
       "Japan     NaN\n",
       "UK        NaN\n",
       "USA       2.0\n",
       "dtype: float64"
      ]
     },
     "execution_count": 58,
     "metadata": {},
     "output_type": "execute_result"
    }
   ],
   "source": [
    "ser1 + ser2"
   ]
  },
  {
   "cell_type": "code",
   "execution_count": null,
   "id": "c622b418-762d-42be-b9d1-ad8d6d6bb30c",
   "metadata": {},
   "outputs": [],
   "source": []
  }
 ],
 "metadata": {
  "kernelspec": {
   "display_name": "Python 3 (ipykernel)",
   "language": "python",
   "name": "python3"
  },
  "language_info": {
   "codemirror_mode": {
    "name": "ipython",
    "version": 3
   },
   "file_extension": ".py",
   "mimetype": "text/x-python",
   "name": "python",
   "nbconvert_exporter": "python",
   "pygments_lexer": "ipython3",
   "version": "3.12.4"
  }
 },
 "nbformat": 4,
 "nbformat_minor": 5
}
